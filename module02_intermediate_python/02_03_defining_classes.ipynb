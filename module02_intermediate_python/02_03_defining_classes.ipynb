{
 "cells": [
  {
   "cell_type": "markdown",
   "metadata": {},
   "source": [
    "# Defining your own classes"
   ]
  },
  {
   "cell_type": "markdown",
   "metadata": {},
   "source": [
    "## User Defined Types"
   ]
  },
  {
   "cell_type": "markdown",
   "metadata": {},
   "source": [
    "A **class** is a user-programmed Python type (since Python 2.2!)"
   ]
  },
  {
   "cell_type": "markdown",
   "metadata": {},
   "source": [
    "It can be defined like:"
   ]
  },
  {
   "cell_type": "code",
   "execution_count": 1,
   "metadata": {},
   "outputs": [],
   "source": [
    "class Room(object):\n",
    "    pass"
   ]
  },
  {
   "cell_type": "markdown",
   "metadata": {},
   "source": [
    "Or:"
   ]
  },
  {
   "cell_type": "code",
   "execution_count": 2,
   "metadata": {},
   "outputs": [],
   "source": [
    "class Room():\n",
    "    pass"
   ]
  },
  {
   "cell_type": "markdown",
   "metadata": {},
   "source": [
    "Or:"
   ]
  },
  {
   "cell_type": "code",
   "execution_count": 3,
   "metadata": {},
   "outputs": [],
   "source": [
    "class Room:\n",
    "    pass"
   ]
  },
  {
   "cell_type": "markdown",
   "metadata": {},
   "source": [
    "What's the difference? Before Python 2.2 a class was distinct from all other Python types, which caused some odd behaviour. To fix this, classes were redefined as user programmed types by extending `object`, e.g., class `room(object)`.\n",
    "\n",
    "So most Python 2 code will use this syntax as very few people want to use old style python classes. Python 3 has formalised this by removing old-style classes, so they can be defined without extending `object`, or indeed without braces.\n"
   ]
  },
  {
   "cell_type": "markdown",
   "metadata": {},
   "source": [
    "Just as with other python types, you use the name of the type as a function to make a variable of that type:"
   ]
  },
  {
   "cell_type": "code",
   "execution_count": 4,
   "metadata": {},
   "outputs": [
    {
     "data": {
      "text/plain": [
       "int"
      ]
     },
     "execution_count": 4,
     "metadata": {},
     "output_type": "execute_result"
    }
   ],
   "source": [
    "zero = int()\n",
    "type(zero)"
   ]
  },
  {
   "cell_type": "code",
   "execution_count": 5,
   "metadata": {},
   "outputs": [
    {
     "data": {
      "text/plain": [
       "__main__.Room"
      ]
     },
     "execution_count": 5,
     "metadata": {},
     "output_type": "execute_result"
    }
   ],
   "source": [
    "myroom = Room()\n",
    "type(myroom)"
   ]
  },
  {
   "cell_type": "markdown",
   "metadata": {},
   "source": [
    "In the jargon, we say that an **object** is an **instance** of a particular **class**.\n",
    "\n",
    "`__main__` is the name of the scope in which top-level code executes, where we've defined the class `Room`."
   ]
  },
  {
   "cell_type": "markdown",
   "metadata": {},
   "source": [
    "Once we have an object with a type of our own devising, we can add properties at will:"
   ]
  },
  {
   "cell_type": "code",
   "execution_count": 6,
   "metadata": {},
   "outputs": [],
   "source": [
    "myroom.name = \"Living\""
   ]
  },
  {
   "cell_type": "code",
   "execution_count": 7,
   "metadata": {},
   "outputs": [
    {
     "data": {
      "text/plain": [
       "'Living'"
      ]
     },
     "execution_count": 7,
     "metadata": {},
     "output_type": "execute_result"
    }
   ],
   "source": [
    "myroom.name"
   ]
  },
  {
   "cell_type": "markdown",
   "metadata": {},
   "source": [
    "The most common use of a class is to allow us to group data into an object in a way that is \n",
    "easier to read and understand than organising data into lists and dictionaries."
   ]
  },
  {
   "cell_type": "code",
   "execution_count": 8,
   "metadata": {},
   "outputs": [],
   "source": [
    "myroom.capacity = 3\n",
    "myroom.occupants = [\"James\", \"Sue\"]"
   ]
  },
  {
   "cell_type": "markdown",
   "metadata": {},
   "source": [
    "## Methods"
   ]
  },
  {
   "cell_type": "markdown",
   "metadata": {},
   "source": [
    "So far, our class doesn't do much!"
   ]
  },
  {
   "cell_type": "markdown",
   "metadata": {},
   "source": [
    "We define functions **inside** the definition of a class, in order to give them capabilities, just like the methods on built-in\n",
    "types."
   ]
  },
  {
   "cell_type": "code",
   "execution_count": 9,
   "metadata": {},
   "outputs": [],
   "source": [
    "class Room:\n",
    "    def overfull(self):\n",
    "        return len(self.occupants) > self.capacity"
   ]
  },
  {
   "cell_type": "code",
   "execution_count": 10,
   "metadata": {},
   "outputs": [],
   "source": [
    "myroom = Room()\n",
    "myroom.capacity = 3\n",
    "myroom.occupants = [\"James\", \"Sue\"]"
   ]
  },
  {
   "cell_type": "code",
   "execution_count": 11,
   "metadata": {},
   "outputs": [
    {
     "data": {
      "text/plain": [
       "False"
      ]
     },
     "execution_count": 11,
     "metadata": {},
     "output_type": "execute_result"
    }
   ],
   "source": [
    "myroom.overfull()"
   ]
  },
  {
   "cell_type": "code",
   "execution_count": 12,
   "metadata": {},
   "outputs": [],
   "source": [
    "myroom.occupants.append([\"Clare\"])"
   ]
  },
  {
   "cell_type": "code",
   "execution_count": 13,
   "metadata": {},
   "outputs": [],
   "source": [
    "myroom.occupants.append([\"Bob\"])"
   ]
  },
  {
   "cell_type": "code",
   "execution_count": 14,
   "metadata": {},
   "outputs": [
    {
     "data": {
      "text/plain": [
       "True"
      ]
     },
     "execution_count": 14,
     "metadata": {},
     "output_type": "execute_result"
    }
   ],
   "source": [
    "myroom.overfull()"
   ]
  },
  {
   "cell_type": "markdown",
   "metadata": {},
   "source": [
    "When we write methods, we always write the first function argument as `self`, to refer to the object instance itself,\n",
    "the argument that goes \"before the dot\"."
   ]
  },
  {
   "cell_type": "markdown",
   "metadata": {},
   "source": [
    "This is just a convention for this variable name, not a keyword. You could call it something else if you wanted."
   ]
  },
  {
   "cell_type": "markdown",
   "metadata": {},
   "source": [
    "## Constructors"
   ]
  },
  {
   "cell_type": "markdown",
   "metadata": {},
   "source": [
    "Normally, though, we don't want to add data to the class attributes on the fly like that. \n",
    "Instead, we define a **constructor** that converts input data into an object. "
   ]
  },
  {
   "cell_type": "code",
   "execution_count": 15,
   "metadata": {},
   "outputs": [],
   "source": [
    "class Room:\n",
    "    def __init__(self, name, exits, capacity, occupants=[]):\n",
    "        self.name = name\n",
    "        self.occupants = occupants  # Note the default argument, occupants start empty\n",
    "        self.exits = exits\n",
    "        self.capacity = capacity\n",
    "\n",
    "    def overfull(self):\n",
    "        return len(self.occupants) > self.capacity"
   ]
  },
  {
   "cell_type": "code",
   "execution_count": 16,
   "metadata": {},
   "outputs": [],
   "source": [
    "living = Room(\"Living Room\", {\"north\": \"garden\"}, 3)"
   ]
  },
  {
   "cell_type": "code",
   "execution_count": 17,
   "metadata": {},
   "outputs": [
    {
     "data": {
      "text/plain": [
       "3"
      ]
     },
     "execution_count": 17,
     "metadata": {},
     "output_type": "execute_result"
    }
   ],
   "source": [
    "living.capacity"
   ]
  },
  {
   "cell_type": "markdown",
   "metadata": {},
   "source": [
    "Methods which begin and end with **two underscores** in their names fulfil special capabilities in Python, such as\n",
    "constructors."
   ]
  },
  {
   "cell_type": "markdown",
   "metadata": {},
   "source": [
    "## Object-oriented design"
   ]
  },
  {
   "cell_type": "markdown",
   "metadata": {},
   "source": [
    "In building a computer system to model a problem, therefore, we often want to make:\n",
    "\n",
    "* classes for each *kind of thing* in our system\n",
    "* methods for each *capability* of that kind\n",
    "* properties (defined in a constructor) for each *piece of information describing* that kind\n"
   ]
  },
  {
   "cell_type": "markdown",
   "metadata": {},
   "source": [
    "For example, the below program might describe our \"Maze of Rooms\" system:"
   ]
  },
  {
   "cell_type": "markdown",
   "metadata": {},
   "source": [
    "We define a \"Maze\" class which can hold rooms:"
   ]
  },
  {
   "cell_type": "code",
   "execution_count": 18,
   "metadata": {},
   "outputs": [],
   "source": [
    "import random"
   ]
  },
  {
   "cell_type": "code",
   "execution_count": 19,
   "metadata": {},
   "outputs": [],
   "source": [
    "class Maze:\n",
    "    def __init__(self, name):\n",
    "        self.name = name\n",
    "        self.rooms = {}\n",
    "\n",
    "    def add_room(self, room):\n",
    "        # class relation attribute\n",
    "        room.maze = self  # The Room needs to know which Maze it is a part of\n",
    "\n",
    "        # add room to maze\n",
    "        self.rooms[room.name] = room    # str: room\n",
    "\n",
    "    def occupants(self):\n",
    "        \"\"\"Return all Person instances in Maze\"\"\"\n",
    "        return [\n",
    "            occupant\n",
    "            for room in self.rooms.values()             # iterate over Room instances\n",
    "            for occupant in room.occupants.values()     # iterate over Person instances\n",
    "        ]\n",
    "\n",
    "    def wander(self):\n",
    "        \"\"\"Move all the people in a random direction\"\"\"\n",
    "        for occupant in self.occupants():\n",
    "            # each Person wanders\n",
    "            occupant.wander()\n",
    "\n",
    "    def describe(self):\n",
    "        \"\"\"Describes each individual Room\"\"\"\n",
    "        for room in self.rooms.values():\n",
    "            room.describe()\n",
    "\n",
    "    def step(self):\n",
    "        self.describe()\n",
    "        print(\"\")\n",
    "        self.wander()\n",
    "        print(\"\")\n",
    "\n",
    "    def simulate(self, steps):\n",
    "        for _ in range(steps):\n",
    "            self.step()"
   ]
  },
  {
   "cell_type": "markdown",
   "metadata": {},
   "source": [
    "And a \"Room\" class with exits, and people:"
   ]
  },
  {
   "cell_type": "code",
   "execution_count": 20,
   "metadata": {},
   "outputs": [],
   "source": [
    "class Room:\n",
    "    def __init__(self, name, exits, capacity, maze=None):\n",
    "        self.name = name\n",
    "        self.exits = exits  # Should be a dictionary from directions to room names\n",
    "        self.capacity = capacity\n",
    "        self.maze = maze\n",
    "\n",
    "        self.occupants = {}  # Note the default argument, occupants start empty\n",
    "\n",
    "    def has_space(self):\n",
    "        return len(self.occupants) < self.capacity\n",
    "\n",
    "    def available_exits(self):\n",
    "        return [\n",
    "            exit\n",
    "            for exit, target in self.exits.items()  # iterate over exit names (target)\n",
    "            if self.maze.rooms[target].has_space()  # check if Room instance has room\n",
    "        ]\n",
    "\n",
    "    def random_valid_exit(self):\n",
    "        \"\"\"Get random direction (exit) of the Room\"\"\"\n",
    "        if not self.available_exits():\n",
    "            return None\n",
    "        return random.choice(self.available_exits())\n",
    "\n",
    "    def destination(self, exit):\n",
    "        \"\"\"Get the Room instance of the exit\"\"\"\n",
    "        return self.maze.rooms[self.exits[exit]]\n",
    "\n",
    "    def add_occupant(self, occupant):\n",
    "        # class relation attribute\n",
    "        occupant.room = self  # The person needs to know which room it is in\n",
    "        \n",
    "        # add person to room\n",
    "        self.occupants[occupant.name] = occupant    # str: Person\n",
    "\n",
    "    def delete_occupant(self, occupant):\n",
    "        del self.occupants[occupant.name]\n",
    "\n",
    "    def describe(self):\n",
    "        if self.occupants:\n",
    "            print(f\"{self.name}: \" + \" \".join(self.occupants.keys()))"
   ]
  },
  {
   "cell_type": "markdown",
   "metadata": {},
   "source": [
    "We define a \"Person\" class for room occupants:"
   ]
  },
  {
   "cell_type": "code",
   "execution_count": 21,
   "metadata": {},
   "outputs": [],
   "source": [
    "class Person:\n",
    "    def __init__(self, name, room=None):\n",
    "        self.name = name\n",
    "        self.room = None\n",
    "\n",
    "    def use(self, exit):\n",
    "        self.room.delete_occupant(self)\n",
    "        destination = self.room.destination(exit)\n",
    "        destination.add_occupant(self)\n",
    "        print(\n",
    "            \"{some} goes {action} to the {where}\".format(\n",
    "                some=self.name, action=exit, where=destination.name\n",
    "            )\n",
    "        )\n",
    "\n",
    "    def wander(self):\n",
    "        exit = self.room.random_valid_exit()\n",
    "\n",
    "        # if exit is not None, then available room exists\n",
    "        if exit:\n",
    "            self.use(exit)"
   ]
  },
  {
   "cell_type": "markdown",
   "metadata": {},
   "source": [
    "And we use these classes to define our people, rooms, and their relationships:"
   ]
  },
  {
   "cell_type": "code",
   "execution_count": 22,
   "metadata": {},
   "outputs": [
    {
     "name": "stdout",
     "output_type": "stream",
     "text": [
      "livingroom: James\n",
      "garden: Sue Clare\n",
      "bedroom: Bob\n",
      "\n",
      "James goes north to the kitchen\n",
      "Sue goes inside to the livingroom\n",
      "Clare goes inside to the livingroom\n",
      "Bob goes jump to the garden\n",
      "\n",
      "livingroom: Sue Clare\n",
      "kitchen: James\n",
      "garden: Bob\n",
      "\n",
      "Sue goes outside to the garden\n",
      "Clare goes upstairs to the bedroom\n",
      "James goes south to the livingroom\n",
      "Bob goes inside to the livingroom\n",
      "\n",
      "livingroom: James Bob\n",
      "garden: Sue\n",
      "bedroom: Clare\n",
      "\n",
      "James goes outside to the garden\n",
      "Bob goes outside to the garden\n",
      "Sue goes inside to the livingroom\n",
      "Clare goes downstairs to the livingroom\n",
      "\n"
     ]
    }
   ],
   "source": [
    "# Outer class\n",
    "house = Maze(\"My House\")\n",
    "\n",
    "# Middle class & exits embedded\n",
    "living = Room(\n",
    "    \"livingroom\", {\"north\": \"kitchen\", \"upstairs\": \"bedroom\", \"outside\": \"garden\"}, 2\n",
    ")\n",
    "kitchen = Room(\"kitchen\", {\"south\": \"livingroom\"}, 1)\n",
    "garden = Room(\"garden\", {\"inside\": \"livingroom\"}, 3)\n",
    "bedroom = Room(\"bedroom\", {\"downstairs\": \"livingroom\", \"jump\": \"garden\"}, 1)\n",
    "\n",
    "# Inner class\n",
    "james = Person(\"James\")\n",
    "sue = Person(\"Sue\")\n",
    "bob = Person(\"Bob\")\n",
    "clare = Person(\"Clare\")\n",
    "\n",
    "# Link Maze(house) with Rooms\n",
    "for room in [living, kitchen, garden, bedroom]:\n",
    "    house.add_room(room)\n",
    "\n",
    "# Link Room with Person instances\n",
    "living.add_occupant(james)\n",
    "garden.add_occupant(sue)\n",
    "garden.add_occupant(clare)\n",
    "bedroom.add_occupant(bob)\n",
    "\n",
    "# Simulate\n",
    "random.seed(123)\n",
    "house.simulate(3)"
   ]
  },
  {
   "cell_type": "markdown",
   "metadata": {},
   "source": [
    "## Alternative object models"
   ]
  },
  {
   "cell_type": "markdown",
   "metadata": {},
   "source": [
    "There are many choices for how to design programs to do this. Another choice would be to separately define exits as a different class from rooms. This way, \n",
    "we can use arrays instead of dictionaries, but we have to first define all our rooms, then define all our exits."
   ]
  },
  {
   "cell_type": "code",
   "execution_count": 23,
   "metadata": {},
   "outputs": [],
   "source": [
    "class Maze:\n",
    "    def __init__(self, name):\n",
    "        self.name = name\n",
    "        self.rooms = []\n",
    "\n",
    "        # Person instances stored in the larger Maze class\n",
    "        # Each Person has Rooms stored locally\n",
    "        self.occupants = []\n",
    "\n",
    "    def add_room(self, name, capacity):\n",
    "        result = Room(name, capacity)   # no maze attribute\n",
    "        self.rooms.append(result)\n",
    "\n",
    "        # Return newly initialized Room instance\n",
    "        return result\n",
    "\n",
    "    def add_exit(self, name, source, target, reverse=None):\n",
    "        # Directions: name and reverse\n",
    "        # Rooms: source target\n",
    "\n",
    "        # source to target exit\n",
    "        source.add_exit(name, target)\n",
    "\n",
    "        # target to source exit\n",
    "        # Note: do not reverse when mirroring the exit\n",
    "        if reverse:\n",
    "            target.add_exit(reverse, source)\n",
    "\n",
    "    def add_occupant(self, name, room):\n",
    "        self.occupants.append(Person(name, room))\n",
    "        room.occupancy += 1\n",
    "\n",
    "    def wander(self):\n",
    "        \"Move all the people in a random direction\"\n",
    "        for occupant in self.occupants:\n",
    "            occupant.wander()\n",
    "\n",
    "    def describe(self):\n",
    "        \"\"\"Describes each individual Person\"\"\"\n",
    "        for occupant in self.occupants:\n",
    "            occupant.describe()\n",
    "\n",
    "    def step(self):\n",
    "        self.describe()\n",
    "        print(\"\")\n",
    "        self.wander()\n",
    "        print(\"\")\n",
    "\n",
    "    # simulate people moving around in steps\n",
    "    def simulate(self, steps):\n",
    "        for _ in range(steps):\n",
    "            self.step()"
   ]
  },
  {
   "cell_type": "code",
   "execution_count": 24,
   "metadata": {},
   "outputs": [],
   "source": [
    "class Room:\n",
    "    def __init__(self, name, capacity):\n",
    "        self.name = name\n",
    "        self.capacity = capacity\n",
    "        self.occupancy = 0\n",
    "        self.exits = []     # list of exit classes\n",
    "\n",
    "        # No list of people. Capacity only\n",
    "        # Room is stored by each Person\n",
    "\n",
    "    def has_space(self):\n",
    "        return self.occupancy < self.capacity\n",
    "\n",
    "    def available_exits(self):\n",
    "        return [exit for exit in self.exits if exit.valid()]\n",
    "\n",
    "    def random_valid_exit(self):\n",
    "        \"\"\"Select random valid Exit instance\"\"\"\n",
    "        if not self.available_exits():\n",
    "            return None\n",
    "        return random.choice(self.available_exits())\n",
    "\n",
    "    def add_exit(self, name, target):\n",
    "        self.exits.append(Exit(name, target))"
   ]
  },
  {
   "cell_type": "code",
   "execution_count": 25,
   "metadata": {},
   "outputs": [],
   "source": [
    "class Person:\n",
    "    def __init__(self, name, room=None):\n",
    "        self.name = name\n",
    "        self.room = room\n",
    "\n",
    "    def use(self, exit):\n",
    "        self.room.occupancy -= 1\n",
    "        destination = exit.target\n",
    "        destination.occupancy += 1\n",
    "        self.room = destination\n",
    "        print(\n",
    "            \"{some} goes {action} to the {where}\".format(\n",
    "                some=self.name, action=exit.name, where=destination.name\n",
    "            )\n",
    "        )\n",
    "\n",
    "    def wander(self):\n",
    "        exit = self.room.random_valid_exit()\n",
    "\n",
    "        # if exit is not None, then available room exists\n",
    "        if exit:\n",
    "            self.use(exit)\n",
    "\n",
    "    def describe(self):\n",
    "        print(\"{who} is in the {where}\".format(who=self.name, where=self.room.name))"
   ]
  },
  {
   "cell_type": "code",
   "execution_count": 26,
   "metadata": {},
   "outputs": [],
   "source": [
    "class Exit:\n",
    "    def __init__(self, name, target):\n",
    "        self.name = name        # Name of direction\n",
    "        self.target = target    # Room instance\n",
    "\n",
    "    def valid(self):\n",
    "        return self.target.has_space()"
   ]
  },
  {
   "cell_type": "code",
   "execution_count": 27,
   "metadata": {},
   "outputs": [
    {
     "name": "stdout",
     "output_type": "stream",
     "text": [
      "James is in the livingroom\n",
      "Sue is in the garden\n",
      "Clare is in the garden\n",
      "Bob is in the bedroom\n",
      "\n",
      "James goes north to the kitchen\n",
      "Sue goes inside to the livingroom\n",
      "Clare goes inside to the livingroom\n",
      "Bob goes jump to the garden\n",
      "\n",
      "James is in the kitchen\n",
      "Sue is in the livingroom\n",
      "Clare is in the livingroom\n",
      "Bob is in the garden\n",
      "\n",
      "Sue goes outside to the garden\n",
      "Clare goes upstairs to the bedroom\n",
      "Bob goes inside to the livingroom\n",
      "\n",
      "James is in the kitchen\n",
      "Sue is in the garden\n",
      "Clare is in the bedroom\n",
      "Bob is in the livingroom\n",
      "\n",
      "James goes south to the livingroom\n",
      "Clare goes jump to the garden\n",
      "Bob goes upstairs to the bedroom\n",
      "\n"
     ]
    }
   ],
   "source": [
    "# Outer class\n",
    "house = Maze(\"My New House\")\n",
    "\n",
    "# Middle class and Links to Maze\n",
    "living = house.add_room(\"livingroom\", 2)\n",
    "kitchen = house.add_room(\"kitchen\", 1)\n",
    "garden = house.add_room(\"garden\", 3)\n",
    "bed = house.add_room(\"bedroom\", 1)\n",
    "\n",
    "# Add Exits to Rooms (through Outer class)\n",
    "house.add_exit(\"north\", living, kitchen, \"south\")\n",
    "house.add_exit(\"upstairs\", living, bed, \"downstairs\")\n",
    "house.add_exit(\"outside\", living, garden, \"inside\")\n",
    "house.add_exit(\"jump\", bed, garden)\n",
    "\n",
    "# Link Rooms with Person instances (through Outer class)\n",
    "house.add_occupant(\"James\", living)\n",
    "house.add_occupant(\"Sue\", garden)\n",
    "house.add_occupant(\"Clare\", garden)\n",
    "house.add_occupant(\"Bob\", bed)\n",
    "\n",
    "# Simulate\n",
    "random.seed(123)\n",
    "house.simulate(3)\n",
    "\n",
    "# Iterating over occupants rather than rooms produces different results"
   ]
  },
  {
   "cell_type": "markdown",
   "metadata": {},
   "source": [
    "This is a huge topic, about which many books have been written. The differences between these two designs are important, and will have long-term consequences for the project. That is the how we start to think about **software engineering**, as opposed to learning to program, and is an important part of this course."
   ]
  },
  {
   "cell_type": "markdown",
   "metadata": {},
   "source": [
    "## Exercise: Your own solution"
   ]
  },
  {
   "cell_type": "markdown",
   "metadata": {},
   "source": [
    "Compare the two solutions above. Discuss with a partner which you like better, and why. Then, starting from scratch, design your own. What choices did you make that are different from mine?"
   ]
  }
 ],
 "metadata": {
  "jekyll": {
   "display_name": "Classes"
  },
  "kernelspec": {
   "display_name": "Python 3 (ipykernel)",
   "language": "python",
   "name": "python3"
  },
  "language_info": {
   "codemirror_mode": {
    "name": "ipython",
    "version": 3
   },
   "file_extension": ".py",
   "mimetype": "text/x-python",
   "name": "python",
   "nbconvert_exporter": "python",
   "pygments_lexer": "ipython3",
   "version": "3.10.0"
  }
 },
 "nbformat": 4,
 "nbformat_minor": 1
}
